{
 "cells": [
  {
   "cell_type": "markdown",
   "metadata": {},
   "source": [
    "# The Battle of Neighborhoods"
   ]
  },
  {
   "cell_type": "raw",
   "metadata": {},
   "source": []
  },
  {
   "cell_type": "markdown",
   "metadata": {},
   "source": [
    "### Data"
   ]
  },
  {
   "cell_type": "markdown",
   "metadata": {},
   "source": [
    "The City to be analyzied is : <b>NewYork City ,NY</b>\n",
    "\n",
    "I'll be using the following Dataset:\n",
    "Link to the dataset : https://geo.nyu.edu/catalog/nyu_2451_34572\n",
    "\n",
    "<b> About the dataset </b><br>\n",
    "This New York City Neighborhood Names point file was created as a guide to New York City’s neighborhoods that appear on the web resource, “New York: A City of Neighborhoods.” Best estimates of label centroids were established at a 1:1,000 scale, but are ideally viewed at a 1:50,000 scale.<br>\n",
    "<b>Publisher:</b>\n",
    "<i>New York (City). Department of City Planning</i>\n",
    "<br><br>\n",
    "This dataset will help us to identify the various Neigbhorhood in NewYork City.\n",
    "\n",
    "<b>Foursquare API</b> This API will be used to gather different venues around a specific location. For Example We can look for number of Coffee shops,Restaurants in a neighborhood and if a places is having few number of venues , opening a venue at that place will be profitable. "
   ]
  },
  {
   "cell_type": "code",
   "execution_count": null,
   "metadata": {},
   "outputs": [],
   "source": []
  }
 ],
 "metadata": {
  "kernelspec": {
   "display_name": "Python 3",
   "language": "python",
   "name": "python3"
  },
  "language_info": {
   "codemirror_mode": {
    "name": "ipython",
    "version": 3
   },
   "file_extension": ".py",
   "mimetype": "text/x-python",
   "name": "python",
   "nbconvert_exporter": "python",
   "pygments_lexer": "ipython3",
   "version": "3.7.1"
  }
 },
 "nbformat": 4,
 "nbformat_minor": 2
}
